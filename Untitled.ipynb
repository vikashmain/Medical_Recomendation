{
 "cells": [
  {
   "cell_type": "code",
   "execution_count": 5,
   "id": "525ee0a7-8c97-48fa-b8e8-37c302b1a552",
   "metadata": {},
   "outputs": [],
   "source": [
    "from flask import Flask, render_template, request\n",
    "import pandas as pd\n",
    "from sklearn.feature_extraction.text import CountVectorizer\n",
    "from sklearn.metrics.pairwise import cosine_similarity\n",
    "import pickle\n",
    "from scipy import sparse\n",
    "\n",
    "# Save vectorizer\n",
    "\n",
    "# Load and preprocess datase\n"
   ]
  },
  {
   "cell_type": "code",
   "execution_count": 6,
   "id": "c3be0c48-fd5b-40ef-80cc-b85fc6f1fcdb",
   "metadata": {},
   "outputs": [],
   "source": [
    "df = pd.read_csv('disease_symptoms.csv')"
   ]
  },
  {
   "cell_type": "code",
   "execution_count": 7,
   "id": "49676c2d-d14c-44b8-aad2-3e582e8c6fda",
   "metadata": {},
   "outputs": [
    {
     "data": {
      "text/html": [
       "<div>\n",
       "<style scoped>\n",
       "    .dataframe tbody tr th:only-of-type {\n",
       "        vertical-align: middle;\n",
       "    }\n",
       "\n",
       "    .dataframe tbody tr th {\n",
       "        vertical-align: top;\n",
       "    }\n",
       "\n",
       "    .dataframe thead th {\n",
       "        text-align: right;\n",
       "    }\n",
       "</style>\n",
       "<table border=\"1\" class=\"dataframe\">\n",
       "  <thead>\n",
       "    <tr style=\"text-align: right;\">\n",
       "      <th></th>\n",
       "      <th>Disease</th>\n",
       "      <th>Symptom_1</th>\n",
       "      <th>Symptom_2</th>\n",
       "      <th>Symptom_3</th>\n",
       "      <th>Symptom_4</th>\n",
       "      <th>Symptom_5</th>\n",
       "      <th>Symptom_6</th>\n",
       "      <th>Symptom_7</th>\n",
       "      <th>Symptom_8</th>\n",
       "      <th>Symptom_9</th>\n",
       "      <th>Symptom_10</th>\n",
       "      <th>Symptom_11</th>\n",
       "      <th>Symptom_12</th>\n",
       "      <th>Symptom_13</th>\n",
       "      <th>Symptom_14</th>\n",
       "      <th>Symptom_15</th>\n",
       "      <th>Symptom_16</th>\n",
       "      <th>Symptom_17</th>\n",
       "    </tr>\n",
       "  </thead>\n",
       "  <tbody>\n",
       "    <tr>\n",
       "      <th>0</th>\n",
       "      <td>Fungal infection</td>\n",
       "      <td>itching</td>\n",
       "      <td>skin_rash</td>\n",
       "      <td>nodal_skin_eruptions</td>\n",
       "      <td>dischromic _patches</td>\n",
       "      <td>NaN</td>\n",
       "      <td>NaN</td>\n",
       "      <td>NaN</td>\n",
       "      <td>NaN</td>\n",
       "      <td>NaN</td>\n",
       "      <td>NaN</td>\n",
       "      <td>NaN</td>\n",
       "      <td>NaN</td>\n",
       "      <td>NaN</td>\n",
       "      <td>NaN</td>\n",
       "      <td>NaN</td>\n",
       "      <td>NaN</td>\n",
       "      <td>NaN</td>\n",
       "    </tr>\n",
       "    <tr>\n",
       "      <th>1</th>\n",
       "      <td>Fungal infection</td>\n",
       "      <td>skin_rash</td>\n",
       "      <td>nodal_skin_eruptions</td>\n",
       "      <td>dischromic _patches</td>\n",
       "      <td>NaN</td>\n",
       "      <td>NaN</td>\n",
       "      <td>NaN</td>\n",
       "      <td>NaN</td>\n",
       "      <td>NaN</td>\n",
       "      <td>NaN</td>\n",
       "      <td>NaN</td>\n",
       "      <td>NaN</td>\n",
       "      <td>NaN</td>\n",
       "      <td>NaN</td>\n",
       "      <td>NaN</td>\n",
       "      <td>NaN</td>\n",
       "      <td>NaN</td>\n",
       "      <td>NaN</td>\n",
       "    </tr>\n",
       "    <tr>\n",
       "      <th>2</th>\n",
       "      <td>Fungal infection</td>\n",
       "      <td>itching</td>\n",
       "      <td>nodal_skin_eruptions</td>\n",
       "      <td>dischromic _patches</td>\n",
       "      <td>NaN</td>\n",
       "      <td>NaN</td>\n",
       "      <td>NaN</td>\n",
       "      <td>NaN</td>\n",
       "      <td>NaN</td>\n",
       "      <td>NaN</td>\n",
       "      <td>NaN</td>\n",
       "      <td>NaN</td>\n",
       "      <td>NaN</td>\n",
       "      <td>NaN</td>\n",
       "      <td>NaN</td>\n",
       "      <td>NaN</td>\n",
       "      <td>NaN</td>\n",
       "      <td>NaN</td>\n",
       "    </tr>\n",
       "    <tr>\n",
       "      <th>3</th>\n",
       "      <td>Fungal infection</td>\n",
       "      <td>itching</td>\n",
       "      <td>skin_rash</td>\n",
       "      <td>dischromic _patches</td>\n",
       "      <td>NaN</td>\n",
       "      <td>NaN</td>\n",
       "      <td>NaN</td>\n",
       "      <td>NaN</td>\n",
       "      <td>NaN</td>\n",
       "      <td>NaN</td>\n",
       "      <td>NaN</td>\n",
       "      <td>NaN</td>\n",
       "      <td>NaN</td>\n",
       "      <td>NaN</td>\n",
       "      <td>NaN</td>\n",
       "      <td>NaN</td>\n",
       "      <td>NaN</td>\n",
       "      <td>NaN</td>\n",
       "    </tr>\n",
       "    <tr>\n",
       "      <th>4</th>\n",
       "      <td>Fungal infection</td>\n",
       "      <td>itching</td>\n",
       "      <td>skin_rash</td>\n",
       "      <td>nodal_skin_eruptions</td>\n",
       "      <td>NaN</td>\n",
       "      <td>NaN</td>\n",
       "      <td>NaN</td>\n",
       "      <td>NaN</td>\n",
       "      <td>NaN</td>\n",
       "      <td>NaN</td>\n",
       "      <td>NaN</td>\n",
       "      <td>NaN</td>\n",
       "      <td>NaN</td>\n",
       "      <td>NaN</td>\n",
       "      <td>NaN</td>\n",
       "      <td>NaN</td>\n",
       "      <td>NaN</td>\n",
       "      <td>NaN</td>\n",
       "    </tr>\n",
       "  </tbody>\n",
       "</table>\n",
       "</div>"
      ],
      "text/plain": [
       "            Disease   Symptom_1              Symptom_2              Symptom_3  \\\n",
       "0  Fungal infection     itching              skin_rash   nodal_skin_eruptions   \n",
       "1  Fungal infection   skin_rash   nodal_skin_eruptions    dischromic _patches   \n",
       "2  Fungal infection     itching   nodal_skin_eruptions    dischromic _patches   \n",
       "3  Fungal infection     itching              skin_rash    dischromic _patches   \n",
       "4  Fungal infection     itching              skin_rash   nodal_skin_eruptions   \n",
       "\n",
       "              Symptom_4 Symptom_5 Symptom_6 Symptom_7 Symptom_8 Symptom_9  \\\n",
       "0   dischromic _patches       NaN       NaN       NaN       NaN       NaN   \n",
       "1                   NaN       NaN       NaN       NaN       NaN       NaN   \n",
       "2                   NaN       NaN       NaN       NaN       NaN       NaN   \n",
       "3                   NaN       NaN       NaN       NaN       NaN       NaN   \n",
       "4                   NaN       NaN       NaN       NaN       NaN       NaN   \n",
       "\n",
       "  Symptom_10 Symptom_11 Symptom_12 Symptom_13 Symptom_14 Symptom_15  \\\n",
       "0        NaN        NaN        NaN        NaN        NaN        NaN   \n",
       "1        NaN        NaN        NaN        NaN        NaN        NaN   \n",
       "2        NaN        NaN        NaN        NaN        NaN        NaN   \n",
       "3        NaN        NaN        NaN        NaN        NaN        NaN   \n",
       "4        NaN        NaN        NaN        NaN        NaN        NaN   \n",
       "\n",
       "  Symptom_16 Symptom_17  \n",
       "0        NaN        NaN  \n",
       "1        NaN        NaN  \n",
       "2        NaN        NaN  \n",
       "3        NaN        NaN  \n",
       "4        NaN        NaN  "
      ]
     },
     "execution_count": 7,
     "metadata": {},
     "output_type": "execute_result"
    }
   ],
   "source": [
    "df.head()"
   ]
  },
  {
   "cell_type": "code",
   "execution_count": 8,
   "id": "c4eb833f-7c54-4693-9ce5-5959c274c9a9",
   "metadata": {},
   "outputs": [],
   "source": [
    "symptom_cols = [col for col in df.columns if col.startswith('Symptom_')]\n",
    "df['symptoms'] = df[symptom_cols].fillna('').apply(lambda row: ' '.join(row.values.astype(str)), axis=1).str.lower()\n",
    "df['symptoms'] = df['symptoms'].str.replace('_', ' ')"
   ]
  },
  {
   "cell_type": "code",
   "execution_count": 9,
   "id": "ccca597b-ee5a-4f0b-af6b-ac895f4ef929",
   "metadata": {},
   "outputs": [],
   "source": [
    "vectorizer = CountVectorizer()\n",
    "vectors = vectorizer.fit_transform(df['symptoms'])"
   ]
  },
  {
   "cell_type": "code",
   "execution_count": 10,
   "id": "38fed282-78de-40d0-b582-f5a881d9841b",
   "metadata": {},
   "outputs": [
    {
     "data": {
      "text/plain": [
       "array([[0, 0, 0, ..., 0, 0, 0],\n",
       "       [0, 0, 0, ..., 0, 0, 0],\n",
       "       [0, 0, 0, ..., 0, 0, 0],\n",
       "       ...,\n",
       "       [0, 0, 0, ..., 0, 0, 0],\n",
       "       [0, 0, 0, ..., 0, 0, 0],\n",
       "       [0, 0, 0, ..., 1, 0, 0]], dtype=int64)"
      ]
     },
     "execution_count": 10,
     "metadata": {},
     "output_type": "execute_result"
    }
   ],
   "source": [
    "vectors.toarray()"
   ]
  },
  {
   "cell_type": "code",
   "execution_count": 11,
   "id": "7fea38ce-17df-412e-8004-b5642a3266f8",
   "metadata": {},
   "outputs": [],
   "source": [
    "with open('vectorizer.pkl', 'wb') as f:\n",
    "    pickle.dump(vectorizer, f)\n",
    "\n",
    "# Save vectorized symptom matrix (sparse format)\n",
    "sparse.save_npz('vectors.npz', vectors)"
   ]
  },
  {
   "cell_type": "code",
   "execution_count": 13,
   "id": "bc580163-7b5f-4b58-8a9f-41d24d6b865b",
   "metadata": {},
   "outputs": [],
   "source": [
    "import pickle\n",
    "from scipy import sparse\n",
    "\n",
    "# Load vectorizer\n",
    "with open('vectorizer.pkl', 'rb') as f:\n",
    "    vectorizer = pickle.load(f)\n",
    "\n",
    "# Load vectors\n",
    "vectors = sparse.load_npz('vectors.npz')"
   ]
  },
  {
   "cell_type": "code",
   "execution_count": 14,
   "id": "1c1e123c-1846-4af1-a894-a88e755c3ea2",
   "metadata": {},
   "outputs": [],
   "source": [
    "user_vector = vectorizer.transform([\"itching\"])\n",
    "similarities = cosine_similarity(user_vector, vectors)[0]\n",
    "df['similarity'] = similarities\n",
    "results = list(\n",
    "        df.sort_values(by='similarity', ascending=False)\n",
    "        .drop_duplicates(subset='Disease')\n",
    "        .head(5)[['Disease', 'similarity']]\n",
    "        .itertuples(index=False, name=None)\n",
    "    )"
   ]
  },
  {
   "cell_type": "code",
   "execution_count": 60,
   "id": "bde10ba0-9d0b-4dfa-88a6-29ace35f98ec",
   "metadata": {},
   "outputs": [
    {
     "data": {
      "text/plain": [
       "[('Fungal infection', 0.4472135954999579),\n",
       " ('Drug Reaction', 0.3779644730092272),\n",
       " ('Peptic ulcer diseae', 0.3333333333333333),\n",
       " ('Chronic cholestasis', 0.31622776601683794),\n",
       " ('Jaundice', 0.30151134457776363)]"
      ]
     },
     "execution_count": 60,
     "metadata": {},
     "output_type": "execute_result"
    }
   ],
   "source": [
    "results"
   ]
  },
  {
   "cell_type": "code",
   "execution_count": 93,
   "id": "3d6cbcd5-1840-4132-98b4-927041e6325f",
   "metadata": {},
   "outputs": [],
   "source": [
    "prec_df = pd.read_csv('precautions.csv')"
   ]
  },
  {
   "cell_type": "code",
   "execution_count": 94,
   "id": "9b51db35-5ca6-43c3-8acb-70f46f64a0a9",
   "metadata": {},
   "outputs": [
    {
     "data": {
      "text/html": [
       "<div>\n",
       "<style scoped>\n",
       "    .dataframe tbody tr th:only-of-type {\n",
       "        vertical-align: middle;\n",
       "    }\n",
       "\n",
       "    .dataframe tbody tr th {\n",
       "        vertical-align: top;\n",
       "    }\n",
       "\n",
       "    .dataframe thead th {\n",
       "        text-align: right;\n",
       "    }\n",
       "</style>\n",
       "<table border=\"1\" class=\"dataframe\">\n",
       "  <thead>\n",
       "    <tr style=\"text-align: right;\">\n",
       "      <th></th>\n",
       "      <th>Disease</th>\n",
       "      <th>Precaution_1</th>\n",
       "      <th>Precaution_2</th>\n",
       "      <th>Precaution_3</th>\n",
       "      <th>Precaution_4</th>\n",
       "    </tr>\n",
       "  </thead>\n",
       "  <tbody>\n",
       "    <tr>\n",
       "      <th>0</th>\n",
       "      <td>Drug Reaction</td>\n",
       "      <td>stop irritation</td>\n",
       "      <td>consult nearest hospital</td>\n",
       "      <td>stop taking drug</td>\n",
       "      <td>follow up</td>\n",
       "    </tr>\n",
       "    <tr>\n",
       "      <th>1</th>\n",
       "      <td>Malaria</td>\n",
       "      <td>Consult nearest hospital</td>\n",
       "      <td>avoid oily food</td>\n",
       "      <td>avoid non veg food</td>\n",
       "      <td>keep mosquitos out</td>\n",
       "    </tr>\n",
       "    <tr>\n",
       "      <th>2</th>\n",
       "      <td>Allergy</td>\n",
       "      <td>apply calamine</td>\n",
       "      <td>cover area with bandage</td>\n",
       "      <td>NaN</td>\n",
       "      <td>use ice to compress itching</td>\n",
       "    </tr>\n",
       "    <tr>\n",
       "      <th>3</th>\n",
       "      <td>Hypothyroidism</td>\n",
       "      <td>reduce stress</td>\n",
       "      <td>exercise</td>\n",
       "      <td>eat healthy</td>\n",
       "      <td>get proper sleep</td>\n",
       "    </tr>\n",
       "    <tr>\n",
       "      <th>4</th>\n",
       "      <td>Psoriasis</td>\n",
       "      <td>wash hands with warm soapy water</td>\n",
       "      <td>stop bleeding using pressure</td>\n",
       "      <td>consult doctor</td>\n",
       "      <td>salt baths</td>\n",
       "    </tr>\n",
       "  </tbody>\n",
       "</table>\n",
       "</div>"
      ],
      "text/plain": [
       "          Disease                      Precaution_1  \\\n",
       "0   Drug Reaction                   stop irritation   \n",
       "1         Malaria          Consult nearest hospital   \n",
       "2         Allergy                    apply calamine   \n",
       "3  Hypothyroidism                     reduce stress   \n",
       "4       Psoriasis  wash hands with warm soapy water   \n",
       "\n",
       "                   Precaution_2        Precaution_3  \\\n",
       "0      consult nearest hospital    stop taking drug   \n",
       "1               avoid oily food  avoid non veg food   \n",
       "2       cover area with bandage                 NaN   \n",
       "3                      exercise         eat healthy   \n",
       "4  stop bleeding using pressure      consult doctor   \n",
       "\n",
       "                  Precaution_4  \n",
       "0                    follow up  \n",
       "1           keep mosquitos out  \n",
       "2  use ice to compress itching  \n",
       "3             get proper sleep  \n",
       "4                   salt baths  "
      ]
     },
     "execution_count": 94,
     "metadata": {},
     "output_type": "execute_result"
    }
   ],
   "source": [
    "prec_df.head()"
   ]
  },
  {
   "cell_type": "code",
   "execution_count": 101,
   "id": "652eefba-60b1-4a6e-a66d-e94c58e63129",
   "metadata": {},
   "outputs": [],
   "source": [
    "prct = [col for col in prec_df.columns if col.startswith('Precaution_')]\n",
    "prec_df['precautions'] = prec_df[prct].fillna('').apply(lambda row: ' ,'.join(row.values.astype(str)), axis=1).str.lower()"
   ]
  },
  {
   "cell_type": "code",
   "execution_count": 127,
   "id": "2d7554cd-d55d-47af-ae15-a04b193cbe68",
   "metadata": {},
   "outputs": [],
   "source": [
    "pr = []\n",
    "for idx in range(0,len(results)):\n",
    "        list = []\n",
    "        list=[prec_df[prec_df['Disease']==results[0][0]]['precautions']]\n",
    "        pr.append((results[idx][0],list))    \n"
   ]
  },
  {
   "cell_type": "code",
   "execution_count": 120,
   "id": "e41c59bc-c5bd-4a56-8eac-cf8ef4ee3803",
   "metadata": {},
   "outputs": [],
   "source": [
    "str=([prec_df[prec_df['Disease']==results[0][0]]['precautions']])"
   ]
  },
  {
   "cell_type": "code",
   "execution_count": 122,
   "id": "5f886205-770e-4d40-95b7-dfd3c10d9134",
   "metadata": {},
   "outputs": [
    {
     "data": {
      "text/plain": [
       "pandas.core.series.Series"
      ]
     },
     "execution_count": 122,
     "metadata": {},
     "output_type": "execute_result"
    }
   ],
   "source": [
    "type(str[0][0])"
   ]
  },
  {
   "cell_type": "code",
   "execution_count": 138,
   "id": "c6a995ce-a885-4985-ba5b-e24f0af378f1",
   "metadata": {},
   "outputs": [
    {
     "ename": "TypeError",
     "evalue": "sequence item 0: expected str instance, Series found",
     "output_type": "error",
     "traceback": [
      "\u001b[1;31m---------------------------------------------------------------------------\u001b[0m",
      "\u001b[1;31mTypeError\u001b[0m                                 Traceback (most recent call last)",
      "Cell \u001b[1;32mIn[138], line 1\u001b[0m\n\u001b[1;32m----> 1\u001b[0m desc \u001b[38;5;241m=\u001b[39m\u001b[38;5;124m\"\u001b[39m\u001b[38;5;124m \u001b[39m\u001b[38;5;124m\"\u001b[39m\u001b[38;5;241m.\u001b[39mjoin([w \u001b[38;5;28;01mfor\u001b[39;00m w \u001b[38;5;129;01min\u001b[39;00m pr[\u001b[38;5;241m0\u001b[39m][\u001b[38;5;241m1\u001b[39m]])\n",
      "\u001b[1;31mTypeError\u001b[0m: sequence item 0: expected str instance, Series found"
     ]
    }
   ],
   "source": [
    "desc =\" \".join([w for w in pr[0][1]])\n",
    "\n"
   ]
  },
  {
   "cell_type": "code",
   "execution_count": null,
   "id": "d6aa3c37-64e1-4dd0-88ae-d3ac47b9c84a",
   "metadata": {},
   "outputs": [],
   "source": []
  }
 ],
 "metadata": {
  "kernelspec": {
   "display_name": "Python 3 (ipykernel)",
   "language": "python",
   "name": "python3"
  },
  "language_info": {
   "codemirror_mode": {
    "name": "ipython",
    "version": 3
   },
   "file_extension": ".py",
   "mimetype": "text/x-python",
   "name": "python",
   "nbconvert_exporter": "python",
   "pygments_lexer": "ipython3",
   "version": "3.11.7"
  }
 },
 "nbformat": 4,
 "nbformat_minor": 5
}
